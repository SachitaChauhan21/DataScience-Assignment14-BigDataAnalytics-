{
 "cells": [
  {
   "cell_type": "markdown",
   "metadata": {},
   "source": [
    "# NYC Parking Tickets: An Exploratory Analysis\n",
    "\n",
    "New York City is a thriving metropolis. Just like most other metros its size, one of the biggest problems its citizens face is parking. The classic combination of a huge number of cars and cramped geography leads to a huge number of parking tickets. \n",
    "\n",
    "In an attempt to scientifically analyse this phenomenon, the NYC Police Department has collected data for parking tickets. Of these, the data files for multiple years are publicly available. it is required to perform some exploratory analysis on a part of this data. Spark will allow us to analyse the full files at high speeds as opposed to taking a series of random samples that will approximate the population. For the scope of this analysis, we will analyse the parking tickets over the year 2017.\n",
    "\n",
    "The purpose of this case study is to conduct an exploratory data analysis that will help you understand the data. The questions given below will guide your analysis."
   ]
  },
  {
   "cell_type": "code",
   "execution_count": 1,
   "metadata": {},
   "outputs": [],
   "source": [
    "## creating a spark session\n",
    "\n",
    "from pyspark.sql import SparkSession\n",
    "spark = SparkSession \\\n",
    "    .builder \\\n",
    "    .appName(\"NYC Parking Tickets Case Study\") \\\n",
    "    .getOrCreate()"
   ]
  },
  {
   "cell_type": "code",
   "execution_count": 2,
   "metadata": {},
   "outputs": [
    {
     "data": {
      "text/plain": [
       "DataFrame[Summons Number: bigint, Plate ID: string, Registration State: string, Issue Date: timestamp, Violation Code: int, Vehicle Body Type: string, Vehicle Make: string, Violation Precinct: int, Issuer Precinct: int, Violation Time: string]"
      ]
     },
     "execution_count": 2,
     "metadata": {},
     "output_type": "execute_result"
    }
   ],
   "source": [
    "## reading the data\n",
    "\n",
    "nyc = spark.read.format('csv') \\\n",
    "        .options(header='true', inferschema='true') \\\n",
    "        .load(\"/common_folder/nyc_parking/Parking_Violations_Issued_-_Fiscal_Year_2017.csv\")\n",
    "\n",
    "nyc"
   ]
  },
  {
   "cell_type": "code",
   "execution_count": 3,
   "metadata": {},
   "outputs": [
    {
     "name": "stdout",
     "output_type": "stream",
     "text": [
      "+--------------+--------+------------------+-------------------+--------------+-----------------+------------+------------------+---------------+--------------+\n",
      "|Summons Number|Plate ID|Registration State|         Issue Date|Violation Code|Vehicle Body Type|Vehicle Make|Violation Precinct|Issuer Precinct|Violation Time|\n",
      "+--------------+--------+------------------+-------------------+--------------+-----------------+------------+------------------+---------------+--------------+\n",
      "|    5092469481| GZH7067|                NY|2016-07-10 00:00:00|             7|             SUBN|       TOYOT|                 0|              0|         0143A|\n",
      "|    5092451658| GZH7067|                NY|2016-07-08 00:00:00|             7|             SUBN|       TOYOT|                 0|              0|         0400P|\n",
      "|    4006265037| FZX9232|                NY|2016-08-23 00:00:00|             5|             SUBN|        FORD|                 0|              0|         0233P|\n",
      "|    8478629828| 66623ME|                NY|2017-06-14 00:00:00|            47|             REFG|       MITSU|                14|             14|         1120A|\n",
      "|    7868300310| 37033JV|                NY|2016-11-21 00:00:00|            69|             DELV|       INTER|                13|             13|         0555P|\n",
      "+--------------+--------+------------------+-------------------+--------------+-----------------+------------+------------------+---------------+--------------+\n",
      "only showing top 5 rows\n",
      "\n"
     ]
    }
   ],
   "source": [
    "## inspecting few lines of data\n",
    "\n",
    "nyc.show(5)"
   ]
  },
  {
   "cell_type": "code",
   "execution_count": 4,
   "metadata": {},
   "outputs": [
    {
     "data": {
      "text/plain": [
       "StructType(List(StructField(Summons Number,LongType,true),StructField(Plate ID,StringType,true),StructField(Registration State,StringType,true),StructField(Issue Date,TimestampType,true),StructField(Violation Code,IntegerType,true),StructField(Vehicle Body Type,StringType,true),StructField(Vehicle Make,StringType,true),StructField(Violation Precinct,IntegerType,true),StructField(Issuer Precinct,IntegerType,true),StructField(Violation Time,StringType,true)))"
      ]
     },
     "execution_count": 4,
     "metadata": {},
     "output_type": "execute_result"
    }
   ],
   "source": [
    "## checking the schema for the dataframe\n",
    "\n",
    "nyc.schema"
   ]
  },
  {
   "cell_type": "code",
   "execution_count": 5,
   "metadata": {},
   "outputs": [
    {
     "name": "stdout",
     "output_type": "stream",
     "text": [
      "root\n",
      " |-- Summons Number: long (nullable = true)\n",
      " |-- Plate ID: string (nullable = true)\n",
      " |-- Registration State: string (nullable = true)\n",
      " |-- Issue Date: timestamp (nullable = true)\n",
      " |-- Violation Code: integer (nullable = true)\n",
      " |-- Vehicle Body Type: string (nullable = true)\n",
      " |-- Vehicle Make: string (nullable = true)\n",
      " |-- Violation Precinct: integer (nullable = true)\n",
      " |-- Issuer Precinct: integer (nullable = true)\n",
      " |-- Violation Time: string (nullable = true)\n",
      "\n"
     ]
    }
   ],
   "source": [
    "## printing the schema\n",
    "\n",
    "nyc.printSchema()"
   ]
  },
  {
   "cell_type": "code",
   "execution_count": 6,
   "metadata": {},
   "outputs": [
    {
     "data": {
      "text/plain": [
       "10803028"
      ]
     },
     "execution_count": 6,
     "metadata": {},
     "output_type": "execute_result"
    }
   ],
   "source": [
    "## checking overall count\n",
    "\n",
    "nyc.count()"
   ]
  },
  {
   "cell_type": "code",
   "execution_count": 7,
   "metadata": {},
   "outputs": [
    {
     "data": {
      "text/plain": [
       "10803028"
      ]
     },
     "execution_count": 7,
     "metadata": {},
     "output_type": "execute_result"
    }
   ],
   "source": [
    "## checking distinct count\n",
    "\n",
    "nyc.distinct().count()"
   ]
  },
  {
   "cell_type": "markdown",
   "metadata": {},
   "source": [
    "It shows that there are no duplicates in the file and the dataframe."
   ]
  },
  {
   "cell_type": "code",
   "execution_count": 8,
   "metadata": {},
   "outputs": [
    {
     "name": "stdout",
     "output_type": "stream",
     "text": [
      "+--------------+--------+------------------+-------------------+--------------+-----------------+------------+------------------+---------------+--------------+\n",
      "|Summons Number|Plate ID|Registration State|         Issue Date|Violation Code|Vehicle Body Type|Vehicle Make|Violation Precinct|Issuer Precinct|Violation Time|\n",
      "+--------------+--------+------------------+-------------------+--------------+-----------------+------------+------------------+---------------+--------------+\n",
      "|    8478629828| 66623ME|                NY|2017-06-14 00:00:00|            47|             REFG|       MITSU|                14|             14|         1120A|\n",
      "|    5096917368| FZD8593|                NY|2017-06-13 00:00:00|             7|             SUBN|       ME/BE|                 0|              0|         0852P|\n",
      "|    1407740258| 2513JMG|                NY|2017-01-11 00:00:00|            78|             DELV|       FRUEH|               106|            106|         0015A|\n",
      "|    1413656420|T672371C|                NY|2017-02-04 00:00:00|            40|             TAXI|       TOYOT|                73|             73|         0525A|\n",
      "|    8480309064| 51771JW|                NY|2017-01-26 00:00:00|            64|              VAN|       INTER|                17|             17|         0256P|\n",
      "+--------------+--------+------------------+-------------------+--------------+-----------------+------------+------------------+---------------+--------------+\n",
      "only showing top 5 rows\n",
      "\n"
     ]
    }
   ],
   "source": [
    "## extracting the data for 2017\n",
    "\n",
    "from pyspark.sql.functions import year\n",
    "\n",
    "nyc2017 = nyc.filter(year(nyc['Issue Date']) == 2017)\n",
    "nyc2017.show(5)"
   ]
  },
  {
   "cell_type": "code",
   "execution_count": 9,
   "metadata": {},
   "outputs": [
    {
     "data": {
      "text/plain": [
       "5431918"
      ]
     },
     "execution_count": 9,
     "metadata": {},
     "output_type": "execute_result"
    }
   ],
   "source": [
    "nyc2017.count()"
   ]
  },
  {
   "cell_type": "markdown",
   "metadata": {},
   "source": [
    "The above count shows the total number of records for year 2017."
   ]
  },
  {
   "cell_type": "code",
   "execution_count": 10,
   "metadata": {},
   "outputs": [
    {
     "name": "stdout",
     "output_type": "stream",
     "text": [
      "root\n",
      " |-- Summons Number: long (nullable = true)\n",
      " |-- Plate ID: string (nullable = true)\n",
      " |-- Registration State: string (nullable = true)\n",
      " |-- Issue Date: date (nullable = true)\n",
      " |-- Violation Code: integer (nullable = true)\n",
      " |-- Vehicle Body Type: string (nullable = true)\n",
      " |-- Vehicle Make: string (nullable = true)\n",
      " |-- Violation Precinct: integer (nullable = true)\n",
      " |-- Issuer Precinct: integer (nullable = true)\n",
      " |-- Violation Hour: integer (nullable = true)\n",
      " |-- Violation Minutes: integer (nullable = true)\n",
      " |-- Long Time: long (nullable = true)\n",
      "\n"
     ]
    }
   ],
   "source": [
    "## extracting data appropriately and creating new columns\n",
    "\n",
    "from pyspark.sql.functions import col, when\n",
    "from pyspark.sql.functions import unix_timestamp\n",
    "\n",
    "## extacting hours, minutes and AM/PM values from Violation Time column\n",
    "nyc2017 = nyc2017.withColumn(\"Violation Hour\", col(\"Violation Time\").substr(1,2).cast(\"int\"))\n",
    "nyc2017 = nyc2017.withColumn(\"Violation Minutes\", col(\"Violation Time\").substr(3,2).cast(\"int\"))\n",
    "nyc2017 = nyc2017.withColumn(\"Violation ampm\", col(\"Violation Time\").substr(5,1))\n",
    "\n",
    "## converting AM / PM time to absolute hours ranging from 1-24\n",
    "## here we are adding 12 to pm values provided the time is not between 12 and 13 (12:00 pm to 1:00 pm)\n",
    "nyc2017 = nyc2017.withColumn(\"Violation Hour\",when(col(\"Violation Hour\")==12,when(col(\"Violation ampm\")=='A',0).otherwise(12)) \\\n",
    "                             .otherwise(when(col(\"Violation ampm\")=='P', col(\"Violation Hour\")+12) \\\n",
    "                                        .otherwise(col(\"Violation Hour\"))))\n",
    "\n",
    "## creating the unix timestamp using date and time wchich can be used later\n",
    "nyc2017 = nyc2017.withColumn(\"Long Time\", unix_timestamp(nyc2017[\"Issue Date\"])+ \\\n",
    "                             (nyc2017[\"Violation Hour\"]*3600) + (nyc2017[\"Violation Minutes\"]*60))\n",
    "\n",
    "## converting Issue Date columns from timestamp to date to use it in future as date\n",
    "nyc2017 = nyc2017.withColumn(\"Issue Date\", col(\"Issue Date\").cast(\"date\"))\n",
    "\n",
    "## after extracting the information the these columns are not required and hence dropped\n",
    "nyc2017 = nyc2017.drop(\"Violation Time\",\"Violation ampm\")\n",
    "\n",
    "## printing the schema now\n",
    "nyc2017.printSchema()"
   ]
  },
  {
   "cell_type": "markdown",
   "metadata": {},
   "source": [
    "### Data validation and cleaning"
   ]
  },
  {
   "cell_type": "code",
   "execution_count": 11,
   "metadata": {},
   "outputs": [
    {
     "name": "stdout",
     "output_type": "stream",
     "text": [
      "+-------------------+-------------------+\n",
      "|max(Violation Hour)|min(Violation Hour)|\n",
      "+-------------------+-------------------+\n",
      "|                 99|                  0|\n",
      "+-------------------+-------------------+\n",
      "\n"
     ]
    }
   ],
   "source": [
    "## checking max min Violation hours we computed in dataframe\n",
    "\n",
    "from pyspark.sql.functions import min, max\n",
    "\n",
    "nyc2017.select(max(\"Violation Hour\"), min(\"Violation Hour\")).show()"
   ]
  },
  {
   "cell_type": "code",
   "execution_count": 12,
   "metadata": {},
   "outputs": [
    {
     "data": {
      "text/plain": [
       "55"
      ]
     },
     "execution_count": 12,
     "metadata": {},
     "output_type": "execute_result"
    }
   ],
   "source": [
    "## checking count of incorrect Violation hours which are greater than or equal to 24\n",
    "\n",
    "nyc2017.filter(col(\"Violation Hour\")>=24).count()"
   ]
  },
  {
   "cell_type": "code",
   "execution_count": 13,
   "metadata": {},
   "outputs": [
    {
     "data": {
      "text/plain": [
       "5431918"
      ]
     },
     "execution_count": 13,
     "metadata": {},
     "output_type": "execute_result"
    }
   ],
   "source": [
    "## checking the count of records before dropping eror records\n",
    "\n",
    "nyc2017.count()"
   ]
  },
  {
   "cell_type": "code",
   "execution_count": 14,
   "metadata": {},
   "outputs": [
    {
     "name": "stdout",
     "output_type": "stream",
     "text": [
      "+--------------+--------+------------------+----------+--------------+-----------------+------------+------------------+---------------+--------------+-----------------+----------+\n",
      "|Summons Number|Plate ID|Registration State|Issue Date|Violation Code|Vehicle Body Type|Vehicle Make|Violation Precinct|Issuer Precinct|Violation Hour|Violation Minutes| Long Time|\n",
      "+--------------+--------+------------------+----------+--------------+-----------------+------------+------------------+---------------+--------------+-----------------+----------+\n",
      "|    8478629828| 66623ME|                NY|2017-06-14|            47|             REFG|       MITSU|                14|             14|            11|               20|1497439200|\n",
      "|    5096917368| FZD8593|                NY|2017-06-13|             7|             SUBN|       ME/BE|                 0|              0|            20|               52|1497387120|\n",
      "|    1407740258| 2513JMG|                NY|2017-01-11|            78|             DELV|       FRUEH|               106|            106|             0|               15|1484093700|\n",
      "|    1413656420|T672371C|                NY|2017-02-04|            40|             TAXI|       TOYOT|                73|             73|             5|               25|1486185900|\n",
      "|    8480309064| 51771JW|                NY|2017-01-26|            64|              VAN|       INTER|                17|             17|            14|               56|1485442560|\n",
      "+--------------+--------+------------------+----------+--------------+-----------------+------------+------------------+---------------+--------------+-----------------+----------+\n",
      "only showing top 5 rows\n",
      "\n"
     ]
    }
   ],
   "source": [
    "## removing incorrect values of Violation Hour (which are quiet less in number than overall count) from dataframe\n",
    "\n",
    "nyc2017 = nyc2017.filter(col(\"Violation Hour\")<24)\n",
    "nyc2017.show(5)"
   ]
  },
  {
   "cell_type": "code",
   "execution_count": 15,
   "metadata": {},
   "outputs": [
    {
     "data": {
      "text/plain": [
       "5431847"
      ]
     },
     "execution_count": 15,
     "metadata": {},
     "output_type": "execute_result"
    }
   ],
   "source": [
    "## checking the record counts after deleting  error records for Violation Hour\n",
    "\n",
    "nyc2017.count()"
   ]
  },
  {
   "cell_type": "code",
   "execution_count": 16,
   "metadata": {},
   "outputs": [
    {
     "name": "stdout",
     "output_type": "stream",
     "text": [
      "+----------------------+----------------------+\n",
      "|max(Violation Minutes)|min(Violation Minutes)|\n",
      "+----------------------+----------------------+\n",
      "|                    59|                     0|\n",
      "+----------------------+----------------------+\n",
      "\n"
     ]
    }
   ],
   "source": [
    "## checking max min Violation hours we computed in dataframe\n",
    "\n",
    "nyc2017.select(max(\"Violation Minutes\"), min(\"Violation Minutes\")).show()"
   ]
  },
  {
   "cell_type": "code",
   "execution_count": 17,
   "metadata": {},
   "outputs": [
    {
     "name": "stdout",
     "output_type": "stream",
     "text": [
      "+--------------+--------+------------------+----------+--------------+-----------------+------------+------------------+---------------+--------------+-----------------+---------+\n",
      "|Summons Number|Plate ID|Registration State|Issue Date|Violation Code|Vehicle Body Type|Vehicle Make|Violation Precinct|Issuer Precinct|Violation Hour|Violation Minutes|Long Time|\n",
      "+--------------+--------+------------------+----------+--------------+-----------------+------------+------------------+---------------+--------------+-----------------+---------+\n",
      "|             0|       0|                 0|         0|             0|                0|           0|                 0|              0|             0|               13|       13|\n",
      "+--------------+--------+------------------+----------+--------------+-----------------+------------+------------------+---------------+--------------+-----------------+---------+\n",
      "\n"
     ]
    }
   ],
   "source": [
    "## checking for null values count\n",
    "\n",
    "from pyspark.sql.functions import isnan, count\n",
    "\n",
    "nyc2017.select([count(when(col(c).isNull(), c)).alias(c) for c in nyc2017.columns]).show()"
   ]
  },
  {
   "cell_type": "code",
   "execution_count": 18,
   "metadata": {},
   "outputs": [
    {
     "data": {
      "text/plain": [
       "5431834"
      ]
     },
     "execution_count": 18,
     "metadata": {},
     "output_type": "execute_result"
    }
   ],
   "source": [
    "## dropping the null values (their count is very less)\n",
    "\n",
    "nyc2017 = nyc2017.na.drop()\n",
    "nyc2017.count()"
   ]
  },
  {
   "cell_type": "code",
   "execution_count": 19,
   "metadata": {},
   "outputs": [
    {
     "name": "stdout",
     "output_type": "stream",
     "text": [
      "+--------------+--------+------------------+----------+--------------+-----------------+------------+------------------+---------------+--------------+-----------------+---------+\n",
      "|Summons Number|Plate ID|Registration State|Issue Date|Violation Code|Vehicle Body Type|Vehicle Make|Violation Precinct|Issuer Precinct|Violation Hour|Violation Minutes|Long Time|\n",
      "+--------------+--------+------------------+----------+--------------+-----------------+------------+------------------+---------------+--------------+-----------------+---------+\n",
      "|             0|       0|                 0|         0|             0|                0|           0|                 0|              0|             0|                0|        0|\n",
      "+--------------+--------+------------------+----------+--------------+-----------------+------------+------------------+---------------+--------------+-----------------+---------+\n",
      "\n"
     ]
    }
   ],
   "source": [
    "## getting the count for the 'NA' values \n",
    "\n",
    "nyc2017.select([count(when(col(c)=='NA', c)).alias(c) for c in nyc2017.columns]).show()"
   ]
  },
  {
   "cell_type": "markdown",
   "metadata": {},
   "source": [
    "## Examine the data"
   ]
  },
  {
   "cell_type": "markdown",
   "metadata": {},
   "source": [
    "### Find the total number of tickets for the year."
   ]
  },
  {
   "cell_type": "code",
   "execution_count": 20,
   "metadata": {},
   "outputs": [
    {
     "data": {
      "text/plain": [
       "5431834"
      ]
     },
     "execution_count": 20,
     "metadata": {},
     "output_type": "execute_result"
    }
   ],
   "source": [
    "## checking the count for tickets (we already know that records are distinct)\n",
    "## after initial data analysis and removing null data records\n",
    "\n",
    "nyc2017.count()"
   ]
  },
  {
   "cell_type": "markdown",
   "metadata": {},
   "source": [
    "Total number of tickets for 2017 are 5431834. This number is obtained after some (very less) number of records were removed due to error in data due to null values. Initially the number of records were 5431918."
   ]
  },
  {
   "cell_type": "markdown",
   "metadata": {},
   "source": [
    "### Find out the number of unique states from where the cars that got parking tickets came. \n",
    "\n",
    "There is a numeric entry '99' in the column, which should be corrected. Replace it with the state having the maximum entries. Provide the number of unique states again."
   ]
  },
  {
   "cell_type": "code",
   "execution_count": 21,
   "metadata": {},
   "outputs": [
    {
     "data": {
      "text/plain": [
       "[Row(count(DISTINCT Registration State)=65)]"
      ]
     },
     "execution_count": 21,
     "metadata": {},
     "output_type": "execute_result"
    }
   ],
   "source": [
    "## extracting distinct Registration State\n",
    "\n",
    "from pyspark.sql.functions import countDistinct\n",
    "\n",
    "nyc2017.select(countDistinct(col(\"Registration State\"))).collect()"
   ]
  },
  {
   "cell_type": "code",
   "execution_count": 22,
   "metadata": {},
   "outputs": [
    {
     "data": {
      "text/plain": [
       "[Row(Registration State='NY', count=4273883),\n",
       " Row(Registration State='NJ', count=475821),\n",
       " Row(Registration State='PA', count=140284),\n",
       " Row(Registration State='CT', count=70403),\n",
       " Row(Registration State='FL', count=69464),\n",
       " Row(Registration State='IN', count=45524),\n",
       " Row(Registration State='MA', count=38941),\n",
       " Row(Registration State='VA', count=34366),\n",
       " Row(Registration State='MD', count=30211),\n",
       " Row(Registration State='NC', count=27152),\n",
       " Row(Registration State='TX', count=18827),\n",
       " Row(Registration State='IL', count=18666),\n",
       " Row(Registration State='GA', count=17537),\n",
       " Row(Registration State='99', count=16054),\n",
       " Row(Registration State='AZ', count=12379),\n",
       " Row(Registration State='OH', count=12281),\n",
       " Row(Registration State='CA', count=12153),\n",
       " Row(Registration State='ME', count=10806),\n",
       " Row(Registration State='SC', count=10395),\n",
       " Row(Registration State='MN', count=10083),\n",
       " Row(Registration State='OK', count=9088),\n",
       " Row(Registration State='TN', count=8513),\n",
       " Row(Registration State='DE', count=7905),\n",
       " Row(Registration State='MI', count=7231),\n",
       " Row(Registration State='RI', count=5814),\n",
       " Row(Registration State='NH', count=4119),\n",
       " Row(Registration State='VT', count=3683),\n",
       " Row(Registration State='AL', count=3178),\n",
       " Row(Registration State='WA', count=3052),\n",
       " Row(Registration State='OR', count=2622),\n",
       " Row(Registration State='MO', count=2483),\n",
       " Row(Registration State='ON', count=2460),\n",
       " Row(Registration State='WI', count=2127),\n",
       " Row(Registration State='QB', count=1998),\n",
       " Row(Registration State='IA', count=1938),\n",
       " Row(Registration State='DC', count=1929),\n",
       " Row(Registration State='CO', count=1841),\n",
       " Row(Registration State='KY', count=1795),\n",
       " Row(Registration State='DP', count=1794),\n",
       " Row(Registration State='LA', count=1689),\n",
       " Row(Registration State='MS', count=1582),\n",
       " Row(Registration State='WV', count=1265),\n",
       " Row(Registration State='AR', count=994),\n",
       " Row(Registration State='SD', count=859),\n",
       " Row(Registration State='NM', count=792),\n",
       " Row(Registration State='ID', count=763),\n",
       " Row(Registration State='NV', count=725),\n",
       " Row(Registration State='KS', count=706),\n",
       " Row(Registration State='NE', count=704),\n",
       " Row(Registration State='UT', count=561),\n",
       " Row(Registration State='MT', count=505),\n",
       " Row(Registration State='GV', count=348),\n",
       " Row(Registration State='NS', count=322),\n",
       " Row(Registration State='AK', count=298),\n",
       " Row(Registration State='ND', count=254),\n",
       " Row(Registration State='WY', count=188),\n",
       " Row(Registration State='HI', count=156),\n",
       " Row(Registration State='AB', count=79),\n",
       " Row(Registration State='PE', count=61),\n",
       " Row(Registration State='NB', count=57),\n",
       " Row(Registration State='BC', count=54),\n",
       " Row(Registration State='PR', count=38),\n",
       " Row(Registration State='MB', count=17),\n",
       " Row(Registration State='SK', count=9),\n",
       " Row(Registration State='FO', count=8)]"
      ]
     },
     "execution_count": 22,
     "metadata": {},
     "output_type": "execute_result"
    }
   ],
   "source": [
    "## checking ticket counts across states\n",
    "\n",
    "nyc2017_ticket_across_states = nyc2017.select(\"Registration State\").groupBy(\"Registration State\") \\\n",
    "                                    .count().sort(\"count\",ascending=False)\n",
    "\n",
    "nyc2017_ticket_across_states.collect()"
   ]
  },
  {
   "cell_type": "markdown",
   "metadata": {},
   "source": [
    "From the above command we observed that the Registration State 99 which is errored contain 16054 records."
   ]
  },
  {
   "cell_type": "code",
   "execution_count": 23,
   "metadata": {},
   "outputs": [
    {
     "data": {
      "text/plain": [
       "[Row(count(DISTINCT Registration State)=64)]"
      ]
     },
     "execution_count": 23,
     "metadata": {},
     "output_type": "execute_result"
    }
   ],
   "source": [
    "## replacing the Registration state having '99' value with 'NY' state (state with max entries)\n",
    "\n",
    "nyc2017 = nyc2017.withColumn(\"Registration State\",when(nyc2017[\"Registration State\"]=='99','NY') \\\n",
    "                             .otherwise(nyc2017[\"Registration State\"]))\n",
    "\n",
    "## again extracting distinct Registration State\n",
    "nyc2017.select(countDistinct(col(\"Registration State\"))).collect()"
   ]
  },
  {
   "cell_type": "markdown",
   "metadata": {},
   "source": [
    "Initial number of distinct states obtained were 65 of which one was errored(with value 0). The error values were replaced with most frequent state 'NY' and then the count of distinct states was reduced to 64."
   ]
  },
  {
   "cell_type": "markdown",
   "metadata": {},
   "source": [
    "#### Let's plot ticket counts across registration states to check the distribution now after data correction"
   ]
  },
  {
   "cell_type": "code",
   "execution_count": 24,
   "metadata": {},
   "outputs": [
    {
     "data": {
      "text/html": [
       "<div>\n",
       "<style scoped>\n",
       "    .dataframe tbody tr th:only-of-type {\n",
       "        vertical-align: middle;\n",
       "    }\n",
       "\n",
       "    .dataframe tbody tr th {\n",
       "        vertical-align: top;\n",
       "    }\n",
       "\n",
       "    .dataframe thead th {\n",
       "        text-align: right;\n",
       "    }\n",
       "</style>\n",
       "<table border=\"1\" class=\"dataframe\">\n",
       "  <thead>\n",
       "    <tr style=\"text-align: right;\">\n",
       "      <th></th>\n",
       "      <th>Registration State</th>\n",
       "      <th>count</th>\n",
       "    </tr>\n",
       "  </thead>\n",
       "  <tbody>\n",
       "    <tr>\n",
       "      <th>0</th>\n",
       "      <td>NY</td>\n",
       "      <td>4289937</td>\n",
       "    </tr>\n",
       "    <tr>\n",
       "      <th>1</th>\n",
       "      <td>NJ</td>\n",
       "      <td>475821</td>\n",
       "    </tr>\n",
       "    <tr>\n",
       "      <th>2</th>\n",
       "      <td>PA</td>\n",
       "      <td>140284</td>\n",
       "    </tr>\n",
       "    <tr>\n",
       "      <th>3</th>\n",
       "      <td>CT</td>\n",
       "      <td>70403</td>\n",
       "    </tr>\n",
       "    <tr>\n",
       "      <th>4</th>\n",
       "      <td>FL</td>\n",
       "      <td>69464</td>\n",
       "    </tr>\n",
       "  </tbody>\n",
       "</table>\n",
       "</div>"
      ],
      "text/plain": [
       "  Registration State    count\n",
       "0                 NY  4289937\n",
       "1                 NJ   475821\n",
       "2                 PA   140284\n",
       "3                 CT    70403\n",
       "4                 FL    69464"
      ]
     },
     "execution_count": 24,
     "metadata": {},
     "output_type": "execute_result"
    }
   ],
   "source": [
    "## To plot data first we need to create a data frame with Registration State and count\n",
    "import pandas as pd\n",
    "nyc2017_ticket_across_states = nyc2017.select(\"Registration State\").groupBy(\"Registration State\") \\\n",
    "                                    .count().sort(\"count\",ascending=False)\n",
    "pdDF = nyc2017_ticket_across_states.toPandas()\n",
    "pdDF.head()"
   ]
  },
  {
   "cell_type": "code",
   "execution_count": 28,
   "metadata": {},
   "outputs": [
    {
     "data": {
      "image/png": "[encoded data removed]",
      "text/plain": [
       "<Figure size 1440x576 with 1 Axes>"
      ]
     },
     "metadata": {},
     "output_type": "display_data"
    }
   ],
   "source": [
    "## plot to show distribution of ticket counts across top 5 different states\n",
    "import matplotlib.pyplot as plt\n",
    "pdDF.plot(x='Registration State',y='count',kind='bar',figsize=(20, 8),legend=None)\n",
    "plt.yscale('log')\n",
    "plt.xlabel('Registration State')\n",
    "plt.ylabel('Count')\n",
    "plt.title('Ticket counts across registration states')\n",
    "plt.show()"
   ]
  },
  {
   "cell_type": "markdown",
   "metadata": {},
   "source": [
    "## Aggregation tasks"
   ]
  },
  {
   "cell_type": "markdown",
   "metadata": {},
   "source": [
    "### How often does each violation code occur? Display the frequency of the top five violation codes."
   ]
  },
  {
   "cell_type": "code",
   "execution_count": 29,
   "metadata": {},
   "outputs": [],
   "source": [
    "## register dataframe to temp table\n",
    "\n",
    "nyc2017.createOrReplaceTempView(\"NYC2017\")"
   ]
  },
  {
   "cell_type": "code",
   "execution_count": 30,
   "metadata": {},
   "outputs": [
    {
     "name": "stdout",
     "output_type": "stream",
     "text": [
      "+--------------+------------------+\n",
      "|Violation Code|frequency_per_year|\n",
      "+--------------+------------------+\n",
      "|            21|            768056|\n",
      "|            36|            662765|\n",
      "|            38|            542078|\n",
      "|            14|            476663|\n",
      "|            20|            319644|\n",
      "+--------------+------------------+\n",
      "only showing top 5 rows\n",
      "\n"
     ]
    }
   ],
   "source": [
    "## extracting the most frequent violation code along with their annual count\n",
    "\n",
    "nyc2017_violation_code_count = spark.sql(\"SELECT \\\n",
    "                                                 `Violation Code`, \\\n",
    "                                                 count(*) as frequency_per_year \\\n",
    "                                            FROM \\\n",
    "                                                 NYC2017 \\\n",
    "                                            GROUP BY \\\n",
    "                                                 `Violation Code`\\\n",
    "                                             ORDER BY \\\n",
    "                                                 frequency_per_year DESC\")\n",
    "\n",
    "\n",
    "## displaying the top 5 violation codes\n",
    "\n",
    "nyc2017_violation_code_count.show(5)"
   ]
  },
  {
   "cell_type": "markdown",
   "metadata": {},
   "source": [
    "Top five violation codes are 21, 36, 38, 14, 20. Their frequency per year are mentioned above."
   ]
  },
  {
   "cell_type": "markdown",
   "metadata": {},
   "source": [
    "#### Plot to see frequency of top 5 violation code across year"
   ]
  },
  {
   "cell_type": "code",
   "execution_count": 31,
   "metadata": {},
   "outputs": [
    {
     "data": {
      "text/plain": [
       "<Figure size 432x288 with 0 Axes>"
      ]
     },
     "metadata": {},
     "output_type": "display_data"
    },
    {
     "data": {
      "image/png": "[encoded data removed]",
      "text/plain": [
       "<Figure size 1440x576 with 1 Axes>"
      ]
     },
     "metadata": {},
     "output_type": "display_data"
    }
   ],
   "source": [
    "## To plot data first we need to create a data frame \n",
    "pdDF = nyc2017_violation_code_count.toPandas()\n",
    "\n",
    "## plot to show distribution of ticket counts across different states\n",
    "plt.clf()\n",
    "pdDF[0:5].plot(x='Violation Code',y='frequency_per_year',kind='bar',figsize=(20, 8),legend=None)\n",
    "plt.yscale('log')\n",
    "plt.xlabel('Violation Code')\n",
    "plt.ylabel('frequency')\n",
    "plt.title('Violation Code frequency')\n",
    "plt.show()"
   ]
  },
  {
   "cell_type": "markdown",
   "metadata": {},
   "source": [
    "### How often does each 'vehicle body type' get a parking ticket? How about the 'vehicle make'? "
   ]
  },
  {
   "cell_type": "code",
   "execution_count": 32,
   "metadata": {},
   "outputs": [
    {
     "name": "stdout",
     "output_type": "stream",
     "text": [
      "+-----------------+------------------+\n",
      "|Vehicle Body Type|frequency_per_year|\n",
      "+-----------------+------------------+\n",
      "|             SUBN|           1883925|\n",
      "|             4DSD|           1547312|\n",
      "|              VAN|            724025|\n",
      "|             DELV|            358980|\n",
      "|              SDN|            194164|\n",
      "+-----------------+------------------+\n",
      "only showing top 5 rows\n",
      "\n"
     ]
    }
   ],
   "source": [
    "## extracting the most frequent Vehicle Body Type along with annual count\n",
    "\n",
    "nyc2017_vehicle_body_type_count = spark.sql(\"SELECT \\\n",
    "                                                 `Vehicle Body Type`, \\\n",
    "                                                 count(*) as frequency_per_year \\\n",
    "                                            FROM \\\n",
    "                                                 NYC2017 \\\n",
    "                                            GROUP BY \\\n",
    "                                                 `Vehicle Body Type`\\\n",
    "                                             ORDER BY \\\n",
    "                                                 frequency_per_year DESC\")\n",
    "\n",
    "\n",
    "## displaying the top 5 Vehicle Body Type\n",
    "\n",
    "nyc2017_vehicle_body_type_count.show(5)"
   ]
  },
  {
   "cell_type": "markdown",
   "metadata": {},
   "source": [
    "Top five Vehicle Body Type are SUBN, 4DSD, VAN, DELV, SDN. Their frequencies are mentioned above."
   ]
  },
  {
   "cell_type": "code",
   "execution_count": 33,
   "metadata": {},
   "outputs": [
    {
     "data": {
      "text/plain": [
       "Vehicle Body Type     1165\n",
       "frequency_per_year    1165\n",
       "dtype: int64"
      ]
     },
     "execution_count": 33,
     "metadata": {},
     "output_type": "execute_result"
    }
   ],
   "source": [
    "## To plot data first we need to create a data frame \n",
    "pdDF = nyc2017_vehicle_body_type_count.toPandas()\n",
    "\n",
    "pdDF.count()"
   ]
  },
  {
   "cell_type": "code",
   "execution_count": 34,
   "metadata": {},
   "outputs": [
    {
     "data": {
      "text/plain": [
       "<Figure size 432x288 with 0 Axes>"
      ]
     },
     "metadata": {},
     "output_type": "display_data"
    },
    {
     "data": {
      "image/png": "[encoded data removed]",
      "text/plain": [
       "<Figure size 1440x576 with 1 Axes>"
      ]
     },
     "metadata": {},
     "output_type": "display_data"
    }
   ],
   "source": [
    "## plot to show distribution of ticket counts across top 5 vehicle body\n",
    "plt.clf()\n",
    "pdDF[0:5].plot(x='Vehicle Body Type',y='frequency_per_year',kind='bar',figsize=(20, 8),legend=None)\n",
    "plt.yscale('log')\n",
    "plt.xlabel('Vehicle Body Type')\n",
    "plt.ylabel('frequency')\n",
    "plt.title('Vehicle Body Type frequency')\n",
    "plt.show()"
   ]
  },
  {
   "cell_type": "code",
   "execution_count": 35,
   "metadata": {},
   "outputs": [
    {
     "name": "stdout",
     "output_type": "stream",
     "text": [
      "+------------+------------------+\n",
      "|Vehicle Make|frequency_per_year|\n",
      "+------------+------------------+\n",
      "|        FORD|            636839|\n",
      "|       TOYOT|            605283|\n",
      "|       HONDA|            538874|\n",
      "|       NISSA|            462006|\n",
      "|       CHEVR|            356026|\n",
      "+------------+------------------+\n",
      "only showing top 5 rows\n",
      "\n"
     ]
    }
   ],
   "source": [
    "## extracting the most frequent Vehicle Make along with annual count\n",
    "\n",
    "nyc2017_vehicle_make_count = spark.sql(\"SELECT \\\n",
    "                                                 `Vehicle Make`, \\\n",
    "                                                 count(*) as frequency_per_year \\\n",
    "                                            FROM \\\n",
    "                                                 NYC2017 \\\n",
    "                                            GROUP BY \\\n",
    "                                                 `Vehicle Make`\\\n",
    "                                             ORDER BY \\\n",
    "                                                 frequency_per_year DESC\")\n",
    "\n",
    "\n",
    "## displaying the top 5 Vehicle Make\n",
    "\n",
    "nyc2017_vehicle_make_count.show(5)"
   ]
  },
  {
   "cell_type": "markdown",
   "metadata": {},
   "source": [
    "Top five Vehicle Make are FORD, TOYOT, HONDA, NISSA, CHEVR. Their frequencies per year are mentioned above."
   ]
  },
  {
   "cell_type": "code",
   "execution_count": 36,
   "metadata": {},
   "outputs": [
    {
     "data": {
      "text/plain": [
       "<Figure size 432x288 with 0 Axes>"
      ]
     },
     "metadata": {},
     "output_type": "display_data"
    },
    {
     "data": {
      "image/png": "[encoded data removed]",
      "text/plain": [
       "<Figure size 1440x576 with 1 Axes>"
      ]
     },
     "metadata": {},
     "output_type": "display_data"
    }
   ],
   "source": [
    "## To plot data first we need to create a data frame \n",
    "pdDF = nyc2017_vehicle_make_count.toPandas()\n",
    "## plot to show distribution of ticket counts across top 5 Vehicle Make\n",
    "plt.clf()\n",
    "pdDF[0:5].plot(x='Vehicle Make',y='frequency_per_year',kind='bar',figsize=(20, 8),legend=None)\n",
    "plt.yscale('log')\n",
    "plt.xlabel('Vehicle Make')\n",
    "plt.ylabel('frequency')\n",
    "plt.title('Vehicle Make frequency')\n",
    "plt.show()"
   ]
  },
  {
   "cell_type": "markdown",
   "metadata": {},
   "source": [
    "### A precinct is a police station that has a certain zone of the city under its command. Find the (5 highest) frequencies of tickets for each of the following:\n",
    "\n",
    "- 'Violation Precinct' (This is the precinct of the zone where the violation occurred). Using this, can you draw any insights for parking violations in any specific areas of the city?\n",
    "\n",
    "- 'Issuer Precinct' (This is the precinct that issued the ticket.)\n",
    "\n",
    "Here, you would have noticed that the dataframe has the'Violating Precinct' or 'Issuing Precinct' as '0'. These are erroneous entries. Hence, you need to provide the records for five correct precincts."
   ]
  },
  {
   "cell_type": "code",
   "execution_count": 37,
   "metadata": {},
   "outputs": [
    {
     "name": "stdout",
     "output_type": "stream",
     "text": [
      "+------------------+------------------+\n",
      "|Violation Precinct|frequency_per_year|\n",
      "+------------------+------------------+\n",
      "|                19|            274442|\n",
      "|                14|            203553|\n",
      "|                 1|            174701|\n",
      "|                18|            169130|\n",
      "|               114|            147442|\n",
      "+------------------+------------------+\n",
      "only showing top 5 rows\n",
      "\n"
     ]
    }
   ],
   "source": [
    "## extracting the most frequent Violation Precinct along with annual count\n",
    "## excluding the errored entries\n",
    "\n",
    "nyc2017_vehicle_make_count = spark.sql(\"SELECT \\\n",
    "                                                 `Violation Precinct`, \\\n",
    "                                                 count(*) as frequency_per_year \\\n",
    "                                            FROM \\\n",
    "                                                 NYC2017 \\\n",
    "                                            WHERE \\\n",
    "                                                 `Violation Precinct`!=0 \\\n",
    "                                            GROUP BY \\\n",
    "                                                 `Violation Precinct`\\\n",
    "                                             ORDER BY \\\n",
    "                                                 frequency_per_year DESC\")\n",
    "\n",
    "\n",
    "## displaying the top 5 Violation Precinct\n",
    "\n",
    "nyc2017_vehicle_make_count.show(5)"
   ]
  },
  {
   "cell_type": "markdown",
   "metadata": {},
   "source": [
    "Top five Violation Precinct are 19, 14, 1, 18, 114. Their frequencies per year are mentioned above. "
   ]
  },
  {
   "cell_type": "code",
   "execution_count": 38,
   "metadata": {},
   "outputs": [
    {
     "data": {
      "text/plain": [
       "<Figure size 432x288 with 0 Axes>"
      ]
     },
     "metadata": {},
     "output_type": "display_data"
    },
    {
     "data": {
      "image/png": "[encoded data removed]",
      "text/plain": [
       "<Figure size 1800x576 with 1 Axes>"
      ]
     },
     "metadata": {},
     "output_type": "display_data"
    }
   ],
   "source": [
    "## To plot data first we need to create a data frame \n",
    "pdDF = nyc2017_vehicle_make_count.toPandas()\n",
    "## plot to show distribution of ticket counts across top 5 Violation Precinct\n",
    "plt.clf()\n",
    "pdDF[0:5].plot(x='Violation Precinct',y='frequency_per_year',kind='bar',figsize=(25, 8),legend=None)\n",
    "plt.yscale('log')\n",
    "plt.xlabel('Violation Precinct')\n",
    "plt.ylabel('frequency')\n",
    "plt.title('Violation Precinct frequency')\n",
    "plt.show()"
   ]
  },
  {
   "cell_type": "code",
   "execution_count": 39,
   "metadata": {},
   "outputs": [
    {
     "name": "stdout",
     "output_type": "stream",
     "text": [
      "+---------------+------------------+\n",
      "|Issuer Precinct|frequency_per_year|\n",
      "+---------------+------------------+\n",
      "|             19|            266961|\n",
      "|             14|            200495|\n",
      "|              1|            168740|\n",
      "|             18|            162994|\n",
      "|            114|            144053|\n",
      "+---------------+------------------+\n",
      "only showing top 5 rows\n",
      "\n"
     ]
    }
   ],
   "source": [
    "## extracting the most frequent Issuer Precinct along with annual count\n",
    "## excluding the errored entries\n",
    "\n",
    "nyc2017_vehicle_make_count = spark.sql(\"SELECT \\\n",
    "                                                 `Issuer Precinct`, \\\n",
    "                                                 count(*) as frequency_per_year \\\n",
    "                                            FROM \\\n",
    "                                                 NYC2017 \\\n",
    "                                            WHERE \\\n",
    "                                                 `Issuer Precinct`!=0 \\\n",
    "                                            GROUP BY \\\n",
    "                                                 `Issuer Precinct`\\\n",
    "                                             ORDER BY \\\n",
    "                                                 frequency_per_year DESC\")\n",
    "\n",
    "\n",
    "## displaying the top 5 Issuer Precinct\n",
    "\n",
    "nyc2017_vehicle_make_count.show(5)"
   ]
  },
  {
   "cell_type": "markdown",
   "metadata": {},
   "source": [
    "Top five Issuer Precinct are 19, 14, 1, 18, 114. Their frequencies per year are mentioned above. "
   ]
  },
  {
   "cell_type": "code",
   "execution_count": 40,
   "metadata": {},
   "outputs": [
    {
     "data": {
      "text/plain": [
       "<Figure size 432x288 with 0 Axes>"
      ]
     },
     "metadata": {},
     "output_type": "display_data"
    },
    {
     "data": {
      "image/png": "[encoded data removed]",
      "text/plain": [
       "<Figure size 1440x576 with 1 Axes>"
      ]
     },
     "metadata": {},
     "output_type": "display_data"
    }
   ],
   "source": [
    "## To plot data first we need to create a data frame \n",
    "pdDF = nyc2017_vehicle_make_count.toPandas()\n",
    "## plot to show distribution of ticket counts across top 5 Issuer Precinct\n",
    "plt.clf()\n",
    "pdDF[0:5].plot(x='Issuer Precinct',y='frequency_per_year',kind='bar',figsize=(20, 8),legend=None)\n",
    "plt.yscale('log')\n",
    "plt.xlabel('Issuer Precinct')\n",
    "plt.ylabel('frequency')\n",
    "plt.title('Issuer Precinct frequency')\n",
    "plt.show()"
   ]
  },
  {
   "cell_type": "markdown",
   "metadata": {},
   "source": [
    "### Find the violation code frequencies for three precincts that have issued the most number of tickets. Do these precinct zones have an exceptionally high frequency of certain violation codes? Are these codes common across precincts? "
   ]
  },
  {
   "cell_type": "markdown",
   "metadata": {},
   "source": [
    "We carry out this in two steps. In the first step, we create a sql view with freqencies grouped by with Issuer Precinct and Violation Code. In second step we use the dense rank function with partition over Issuer Precinct to get the top 5 ranks which are the top five violation codes along with their frequencies."
   ]
  },
  {
   "cell_type": "code",
   "execution_count": 41,
   "metadata": {},
   "outputs": [
    {
     "name": "stdout",
     "output_type": "stream",
     "text": [
      "+---------------+--------------+------------------+\n",
      "|Issuer Precinct|Violation Code|frequency_per_year|\n",
      "+---------------+--------------+------------------+\n",
      "|             19|            46|             48445|\n",
      "|             14|            14|             45036|\n",
      "|              1|            14|             38354|\n",
      "|             19|            38|             36386|\n",
      "|             19|            37|             36056|\n",
      "|             14|            69|             30464|\n",
      "|             19|            14|             29797|\n",
      "|             19|            21|             28415|\n",
      "|             14|            31|             22555|\n",
      "|              1|            16|             19081|\n",
      "|             14|            47|             18364|\n",
      "|              1|            20|             15408|\n",
      "|             19|            20|             14629|\n",
      "|              1|            46|             12745|\n",
      "|             19|            40|             11416|\n",
      "|             14|            42|             10027|\n",
      "|             19|            16|              9926|\n",
      "|              1|            38|              8535|\n",
      "|             14|            46|              7679|\n",
      "|              1|            17|              7526|\n",
      "+---------------+--------------+------------------+\n",
      "only showing top 20 rows\n",
      "\n"
     ]
    }
   ],
   "source": [
    "## evaluating the different Violation Code freqiuencies for top 3 Issuer Precinct\n",
    "\n",
    "nyc2017_issuer_violation_code_count = spark.sql(\"SELECT \\\n",
    "                                                 `Issuer Precinct`, \\\n",
    "                                                 `Violation Code`, \\\n",
    "                                                 count(*) as frequency_per_year \\\n",
    "                                            FROM \\\n",
    "                                                 NYC2017 \\\n",
    "                                            WHERE \\\n",
    "                                                 `Issuer Precinct` IN (19,14,1) \\\n",
    "                                            GROUP BY \\\n",
    "                                                 `Issuer Precinct`,`Violation Code` \\\n",
    "                                             ORDER BY \\\n",
    "                                                 frequency_per_year DESC\")\n",
    "\n",
    "\n",
    "## displaying the top 20 frequencies based on grouping of Issuer Precinct and Violation Code\n",
    "\n",
    "nyc2017_issuer_violation_code_count.show(20)"
   ]
  },
  {
   "cell_type": "markdown",
   "metadata": {},
   "source": [
    "Step 2 taking input as step 1 performed above."
   ]
  },
  {
   "cell_type": "code",
   "execution_count": 42,
   "metadata": {},
   "outputs": [
    {
     "name": "stdout",
     "output_type": "stream",
     "text": [
      "+---------------+--------------+------------------+---------+\n",
      "|Issuer Precinct|Violation Code|frequency_per_year|rank_top5|\n",
      "+---------------+--------------+------------------+---------+\n",
      "|              1|            14|             38354|        1|\n",
      "|              1|            16|             19081|        2|\n",
      "|              1|            20|             15408|        3|\n",
      "|              1|            46|             12745|        4|\n",
      "|              1|            38|              8535|        5|\n",
      "|             19|            46|             48445|        1|\n",
      "|             19|            38|             36386|        2|\n",
      "|             19|            37|             36056|        3|\n",
      "|             19|            14|             29797|        4|\n",
      "|             19|            21|             28415|        5|\n",
      "|             14|            14|             45036|        1|\n",
      "|             14|            69|             30464|        2|\n",
      "|             14|            31|             22555|        3|\n",
      "|             14|            47|             18364|        4|\n",
      "|             14|            42|             10027|        5|\n",
      "+---------------+--------------+------------------+---------+\n",
      "\n"
     ]
    }
   ],
   "source": [
    "## evaluating the top 5 violation codes for all the top three Issuer Precinct\n",
    "\n",
    "## creating a temp view from the dataframe crated in above step\n",
    "\n",
    "nyc2017_issuer_violation_code_count.createOrReplaceTempView(\"NYC2017_ISSUER_VIOLATION_CODE_COUNT\")\n",
    "\n",
    "## evaluating top 5 based on dense rank\n",
    "\n",
    "nyc_all_violation_per_precinct_top5 = spark.sql(\"SELECT \\\n",
    "                                                        `Issuer Precinct`,\\\n",
    "                                                        `Violation Code`, \\\n",
    "                                                        frequency_per_year,\\\n",
    "                                                        rank_top5\\\n",
    "                                                FROM ( \\\n",
    "                                                        SELECT \\\n",
    "                                                                `Issuer Precinct`,\\\n",
    "                                                                `Violation Code`, \\\n",
    "                                                                frequency_per_year, \\\n",
    "                                                                dense_rank() OVER(PARTITION BY `Issuer Precinct` \\\n",
    "                                                                        ORDER BY frequency_per_year DESC) AS rank_top5  \\\n",
    "                                                        FROM \\\n",
    "                                                                NYC2017_ISSUER_VIOLATION_CODE_COUNT \\\n",
    "                                                    )  \\\n",
    "                                                WHERE rank_top5 <= 5\")\n",
    "\n",
    "nyc_all_violation_per_precinct_top5.show()"
   ]
  },
  {
   "cell_type": "markdown",
   "metadata": {},
   "source": [
    "Top 3 Issuer Precinct are 1, 19, 14. From these most frequent violation codes were obtained as above. Violation code 14 exist in top 5 violation for all three Issuer Precinct 1, 19 and 14. However, violation codes 46 and 38 exist in top 5 for both 1 and 19 Issuer Precinct."
   ]
  },
  {
   "cell_type": "code",
   "execution_count": 45,
   "metadata": {},
   "outputs": [
    {
     "data": {
      "text/plain": [
       "<Figure size 432x288 with 0 Axes>"
      ]
     },
     "metadata": {},
     "output_type": "display_data"
    },
    {
     "data": {
      "image/png": "[encoded data removed]",
      "text/plain": [
       "<Figure size 1440x576 with 1 Axes>"
      ]
     },
     "metadata": {},
     "output_type": "display_data"
    }
   ],
   "source": [
    "## To plot data first we need to create a data frame \n",
    "pdDF = nyc_all_violation_per_precinct_top5.toPandas()\n",
    "## plot to show distribution of ticket counts across different states\n",
    "plt.clf()\n",
    "pdDF.plot(x='Violation Code',y='frequency_per_year',kind='bar',figsize=(20, 8),legend=None)\n",
    "#plt.yscale('log')\n",
    "plt.xlabel('Violation Code')\n",
    "plt.ylabel('frequency')\n",
    "plt.title('Violation Code frequency grouped by top 3 Issuer Precinct 1,19 and 14 respectively')\n",
    "\n",
    "plt.show()"
   ]
  },
  {
   "cell_type": "markdown",
   "metadata": {},
   "source": [
    "### Find out the properties of parking violations across different times of the day:\n",
    "\n",
    "- Find a way to deal with missing values, if any.\n",
    "\n",
    "- The Violation Time field is specified in a strange format. Find a way to make this a time attribute that you can use to divide into groups.\n",
    "\n",
    "- Divide 24 hours into six equal discrete bins of time. Choose the intervals as you see fit. For each of these groups, find the three most commonly occurring violations.\n",
    "\n",
    "- Now, try another direction. For the three most commonly occurring violation codes, find the most common time of the day (in terms of the bins from the previous part)."
   ]
  },
  {
   "cell_type": "code",
   "execution_count": 46,
   "metadata": {},
   "outputs": [
    {
     "data": {
      "text/plain": [
       "0"
      ]
     },
     "execution_count": 46,
     "metadata": {},
     "output_type": "execute_result"
    }
   ],
   "source": [
    "## We have extracted the hour information into new column Violation Hour as part of data cleaning.\n",
    "\n",
    "## We have also already removed the missing values which were quiet less in number\n",
    "## let us re-confirm that there are no missing values for Violation Hour\n",
    "\n",
    "nyc2017.filter(col(\"Violation Hour\").isNull()).count()"
   ]
  },
  {
   "cell_type": "code",
   "execution_count": 47,
   "metadata": {},
   "outputs": [
    {
     "name": "stdout",
     "output_type": "stream",
     "text": [
      "+--------------+--------+------------------+----------+--------------+-----------------+------------+------------------+---------------+--------------+-----------------+----------+---------------------+\n",
      "|Summons Number|Plate ID|Registration State|Issue Date|Violation Code|Vehicle Body Type|Vehicle Make|Violation Precinct|Issuer Precinct|Violation Hour|Violation Minutes| Long Time|Violation Hour Bucket|\n",
      "+--------------+--------+------------------+----------+--------------+-----------------+------------+------------------+---------------+--------------+-----------------+----------+---------------------+\n",
      "|    8478629828| 66623ME|                NY|2017-06-14|            47|             REFG|       MITSU|                14|             14|            11|               20|1497439200|                  2.0|\n",
      "|    5096917368| FZD8593|                NY|2017-06-13|             7|             SUBN|       ME/BE|                 0|              0|            20|               52|1497387120|                  5.0|\n",
      "|    1407740258| 2513JMG|                NY|2017-01-11|            78|             DELV|       FRUEH|               106|            106|             0|               15|1484093700|                  0.0|\n",
      "|    1413656420|T672371C|                NY|2017-02-04|            40|             TAXI|       TOYOT|                73|             73|             5|               25|1486185900|                  1.0|\n",
      "|    8480309064| 51771JW|                NY|2017-01-26|            64|              VAN|       INTER|                17|             17|            14|               56|1485442560|                  3.0|\n",
      "+--------------+--------+------------------+----------+--------------+-----------------+------------+------------------+---------------+--------------+-----------------+----------+---------------------+\n",
      "only showing top 5 rows\n",
      "\n"
     ]
    }
   ],
   "source": [
    "## bucketing on basis of Violation Hour\n",
    "\n",
    "from pyspark.ml.feature import Bucketizer\n",
    "\n",
    "## creating bucket borders to divide 24 hours into  6 buckets\n",
    "hoursBucketBorders = [0,4,8,12,16,20,24]\n",
    "hoursBucket = Bucketizer().setSplits(hoursBucketBorders).setInputCol(\"Violation Hour\").setOutputCol(\"Violation Hour Bucket\")\n",
    "nyc2017 = hoursBucket.transform(nyc2017)\n",
    "\n",
    "nyc2017.show(5)"
   ]
  },
  {
   "cell_type": "code",
   "execution_count": 48,
   "metadata": {},
   "outputs": [],
   "source": [
    "## refresh dataframe to temp table so as to take up new column created in dataframe\n",
    "\n",
    "nyc2017.createOrReplaceTempView(\"NYC2017\")"
   ]
  },
  {
   "cell_type": "code",
   "execution_count": 49,
   "metadata": {},
   "outputs": [
    {
     "name": "stdout",
     "output_type": "stream",
     "text": [
      "+---------------------+------------------+\n",
      "|Violation Hour Bucket|frequency_per_year|\n",
      "+---------------------+------------------+\n",
      "|                  2.0|           2163563|\n",
      "|                  3.0|           1839957|\n",
      "|                  4.0|            637539|\n",
      "|                  1.0|            449882|\n",
      "|                  5.0|            176358|\n",
      "|                  0.0|            164535|\n",
      "+---------------------+------------------+\n",
      "\n"
     ]
    }
   ],
   "source": [
    "## evaulating  frequncies across each bucket interval\n",
    "\n",
    "nyc2017_violation_hour_bucket_count = spark.sql(\"SELECT \\\n",
    "                                                    `Violation Hour Bucket`, \\\n",
    "                                                     count(*) as frequency_per_year \\\n",
    "                                            FROM \\\n",
    "                                                     NYC2017 \\\n",
    "                                            GROUP BY \\\n",
    "                                                    `Violation Hour Bucket` \\\n",
    "                                             ORDER BY \\\n",
    "                                                 frequency_per_year DESC\")\n",
    "\n",
    "\n",
    "\n",
    "nyc2017_violation_hour_bucket_count.show()"
   ]
  },
  {
   "cell_type": "markdown",
   "metadata": {},
   "source": [
    "Based on the Validation hour timings, the buckets have been created for a 4 hour interval starting from 0 to 24. The frequencies for each buchet are mentioned above. Most of the violations occur in bucjet 2 duration i.e. between 8 hours to 12 hours in the day."
   ]
  },
  {
   "cell_type": "code",
   "execution_count": 50,
   "metadata": {},
   "outputs": [
    {
     "data": {
      "text/plain": [
       "<Figure size 432x288 with 0 Axes>"
      ]
     },
     "metadata": {},
     "output_type": "display_data"
    },
    {
     "data": {
      "image/png": "[encoded data removed]",
      "text/plain": [
       "<Figure size 1080x576 with 1 Axes>"
      ]
     },
     "metadata": {},
     "output_type": "display_data"
    }
   ],
   "source": [
    "## To plot data first we need to create a data frame \n",
    "pdDF = nyc2017_violation_hour_bucket_count.toPandas()\n",
    "## plot to show distribution of ticket counts across different states\n",
    "plt.clf()\n",
    "pdDF.plot(x='Violation Hour Bucket',y='frequency_per_year',kind='bar',figsize=(15, 8),legend=None)\n",
    "plt.xlabel('Violation Hour Bucket')\n",
    "plt.ylabel('frequency')\n",
    "plt.title('Violation Hour Bucket frequency')\n",
    "plt.show()"
   ]
  },
  {
   "cell_type": "code",
   "execution_count": 51,
   "metadata": {},
   "outputs": [
    {
     "name": "stdout",
     "output_type": "stream",
     "text": [
      "+---------------------+--------------+------------------+---------+\n",
      "|Violation Hour Bucket|Violation Code|frequency_per_year|rank_top3|\n",
      "+---------------------+--------------+------------------+---------+\n",
      "|                  0.0|            21|             36958|        1|\n",
      "|                  0.0|            40|             25867|        2|\n",
      "|                  0.0|            78|             15528|        3|\n",
      "|                  1.0|            14|             74114|        1|\n",
      "|                  1.0|            40|             60652|        2|\n",
      "|                  1.0|            21|             57895|        3|\n",
      "|                  4.0|            38|            102855|        1|\n",
      "|                  4.0|            14|             75902|        2|\n",
      "|                  4.0|            37|             70345|        3|\n",
      "|                  3.0|            36|            286284|        1|\n",
      "|                  3.0|            38|            240721|        2|\n",
      "|                  3.0|            37|            167026|        3|\n",
      "|                  2.0|            21|            598066|        1|\n",
      "|                  2.0|            36|            348165|        2|\n",
      "|                  2.0|            38|            176570|        3|\n",
      "|                  5.0|             7|             26293|        1|\n",
      "|                  5.0|            40|             22337|        2|\n",
      "|                  5.0|            14|             21045|        3|\n",
      "+---------------------+--------------+------------------+---------+\n",
      "\n"
     ]
    }
   ],
   "source": [
    "## evaulating top 3 violation code across all the buckets\n",
    "\n",
    "## first grouping the data based on bucket and Violation Code\n",
    "\n",
    "nyc2017_bucket_violation_code_group = spark.sql(\"SELECT \\\n",
    "                                                 `Violation Hour Bucket`, \\\n",
    "                                                 `Violation Code`, \\\n",
    "                                                 count(*) as frequency_per_year \\\n",
    "                                            FROM \\\n",
    "                                                 NYC2017 \\\n",
    "                                            GROUP BY \\\n",
    "                                                 `Violation Hour Bucket`,`Violation Code`\")\n",
    "\n",
    "## creating a sql temp view\n",
    "nyc2017_bucket_violation_code_group.createOrReplaceTempView(\"NYC2017_BUCKET_VIOLATION_CODE_GROUP\")\n",
    "\n",
    "                                                \n",
    "## finally evauluating top3 violation code for each bucket                                                \n",
    "nyc2017_bucket_violation_code_top3 = spark.sql(\"SELECT \\\n",
    "                                                        `Violation Hour Bucket`,\\\n",
    "                                                        `Violation Code`, \\\n",
    "                                                        frequency_per_year,\\\n",
    "                                                        rank_top3\\\n",
    "                                                FROM ( \\\n",
    "                                                        SELECT \\\n",
    "                                                                `Violation Hour Bucket`,\\\n",
    "                                                                `Violation Code`, \\\n",
    "                                                                frequency_per_year, \\\n",
    "                                                                dense_rank() OVER(PARTITION BY `Violation Hour Bucket` \\\n",
    "                                                                        ORDER BY frequency_per_year DESC) AS rank_top3  \\\n",
    "                                                        FROM \\\n",
    "                                                                NYC2017_BUCKET_VIOLATION_CODE_GROUP \\\n",
    "                                                    )  \\\n",
    "                                                WHERE rank_top3 <= 3\")\n",
    "                                    \n",
    "nyc2017_bucket_violation_code_top3.show()"
   ]
  },
  {
   "cell_type": "markdown",
   "metadata": {},
   "source": [
    "Top 3 violations occuring across each bucket interval for Violation hours along with their frequencies are mentioned above."
   ]
  },
  {
   "cell_type": "code",
   "execution_count": 52,
   "metadata": {},
   "outputs": [
    {
     "data": {
      "text/plain": [
       "<Figure size 432x288 with 0 Axes>"
      ]
     },
     "metadata": {},
     "output_type": "display_data"
    },
    {
     "data": {
      "image/png": "[encoded data removed]",
      "text/plain": [
       "<Figure size 1080x576 with 1 Axes>"
      ]
     },
     "metadata": {},
     "output_type": "display_data"
    }
   ],
   "source": [
    "## To plot data first we need to create a data frame \n",
    "pdDF = nyc2017_bucket_violation_code_top3.toPandas()\n",
    "## plot to show distribution of ticket counts across different states\n",
    "plt.clf()\n",
    "pdDF.plot(x='Violation Code',y='frequency_per_year',kind='bar',figsize=(15, 8),legend=None)\n",
    "plt.xlabel('Violation Code')\n",
    "plt.ylabel('frequency')\n",
    "plt.title('3 most commonly occurring violations for Violation Hour Bucket')\n",
    "plt.show()"
   ]
  },
  {
   "cell_type": "code",
   "execution_count": 53,
   "metadata": {},
   "outputs": [
    {
     "name": "stdout",
     "output_type": "stream",
     "text": [
      "+--------------+------------------+---------------------+\n",
      "|Violation Code|frequency_per_year|Violation Hour Bucket|\n",
      "+--------------+------------------+---------------------+\n",
      "|            21|            598066|                  2.0|\n",
      "|            21|             74694|                  3.0|\n",
      "|            21|             57895|                  1.0|\n",
      "|            21|             36958|                  0.0|\n",
      "|            21|               259|                  4.0|\n",
      "|            21|               184|                  5.0|\n",
      "|            36|            348165|                  2.0|\n",
      "|            36|            286284|                  3.0|\n",
      "|            36|             14782|                  1.0|\n",
      "|            36|             13534|                  4.0|\n",
      "|            38|            240721|                  3.0|\n",
      "|            38|            176570|                  2.0|\n",
      "|            38|            102855|                  4.0|\n",
      "|            38|             20347|                  5.0|\n",
      "|            38|              1273|                  1.0|\n",
      "|            38|               312|                  0.0|\n",
      "+--------------+------------------+---------------------+\n",
      "\n"
     ]
    }
   ],
   "source": [
    "## now the other way round . finding the most bucket hours frequency for most common 3 violations (21,36,38)\n",
    "\n",
    "## we'll be using the same sql view NYC2017_BUCKET_VIOLATION_CODE_GROUP we created in above step\n",
    "\n",
    "## finally evauluating top3 buckets for each violation code\n",
    "\n",
    "nyc2017_bucket_violation_code_top3 = spark.sql(\"SELECT \\\n",
    "                                                        `Violation Code`,\\\n",
    "                                                         frequency_per_year, \\\n",
    "                                                         `Violation Hour Bucket`\\\n",
    "                                                FROM \\\n",
    "                                                        NYC2017_BUCKET_VIOLATION_CODE_GROUP \\\n",
    "                                                WHERE \\\n",
    "                                                        `Violation Code` IN (21,36,38) \\\n",
    "                                               ORDER BY \\\n",
    "                                                        `Violation Code` ASC ,frequency_per_year DESC\")\n",
    "                                                \n",
    "                                    \n",
    "nyc2017_bucket_violation_code_top3.show(20)"
   ]
  },
  {
   "cell_type": "markdown",
   "metadata": {},
   "source": [
    "Top 3 violation codes are 21, 36, 38. Their frequencies distribution across Violation hours bucket are mentioned above."
   ]
  },
  {
   "cell_type": "markdown",
   "metadata": {},
   "source": [
    "### Let’s try and find some seasonality in this data:\n",
    "\n",
    "- First, divide the year into a certain number of seasons, and find the frequencies of tickets for each season.\n",
    "\n",
    "- Then, find the three most common violations for each of these seasons."
   ]
  },
  {
   "cell_type": "code",
   "execution_count": 54,
   "metadata": {},
   "outputs": [
    {
     "name": "stdout",
     "output_type": "stream",
     "text": [
      "+--------------+--------+------------------+----------+--------------+-----------------+------------+------------------+---------------+--------------+-----------------+----------+---------------------+-----------+-------------+------+\n",
      "|Summons Number|Plate ID|Registration State|Issue Date|Violation Code|Vehicle Body Type|Vehicle Make|Violation Precinct|Issuer Precinct|Violation Hour|Violation Minutes| Long Time|Violation Hour Bucket|Issue Month|Season Bucket|season|\n",
      "+--------------+--------+------------------+----------+--------------+-----------------+------------+------------------+---------------+--------------+-----------------+----------+---------------------+-----------+-------------+------+\n",
      "|    8478629828| 66623ME|                NY|2017-06-14|            47|             REFG|       MITSU|                14|             14|            11|               20|1497439200|                  2.0|          6|          1.0|SPRING|\n",
      "|    5096917368| FZD8593|                NY|2017-06-13|             7|             SUBN|       ME/BE|                 0|              0|            20|               52|1497387120|                  5.0|          6|          1.0|SPRING|\n",
      "|    1407740258| 2513JMG|                NY|2017-01-11|            78|             DELV|       FRUEH|               106|            106|             0|               15|1484093700|                  0.0|          1|          0.0|WINTER|\n",
      "|    1413656420|T672371C|                NY|2017-02-04|            40|             TAXI|       TOYOT|                73|             73|             5|               25|1486185900|                  1.0|          2|          0.0|WINTER|\n",
      "|    8480309064| 51771JW|                NY|2017-01-26|            64|              VAN|       INTER|                17|             17|            14|               56|1485442560|                  3.0|          1|          0.0|WINTER|\n",
      "+--------------+--------+------------------+----------+--------------+-----------------+------------+------------------+---------------+--------------+-----------------+----------+---------------------+-----------+-------------+------+\n",
      "only showing top 5 rows\n",
      "\n"
     ]
    }
   ],
   "source": [
    "from pyspark.sql.functions import month\n",
    "\n",
    "nyc2017 = nyc2017.withColumn(\"Issue Month\", month(col(\"Issue Date\")))\n",
    "\n",
    "\n",
    "## creating bucket borders as seasons across 12 months\n",
    "\n",
    "seasonBucketBorders = [1,4,7,10,13]\n",
    "seasonBucket = Bucketizer().setSplits(seasonBucketBorders).setInputCol(\"Issue Month\") \\\n",
    "                    .setOutputCol(\"Season Bucket\")\n",
    "nyc2017 = seasonBucket.transform(nyc2017)\n",
    "\n",
    "nyc2017 = nyc2017.withColumn(\"season\", when(col(\"Season Bucket\")==0,\"WINTER\") \\\n",
    "                                         .otherwise(when(col(\"Season Bucket\")==1,\"SPRING\") \\\n",
    "                                         .otherwise(when(col(\"Season Bucket\")==2,\"SUMMER\") \\\n",
    "                                         .otherwise(\"AUTUMN\"))))\n",
    "\n",
    "nyc2017.show(5)"
   ]
  },
  {
   "cell_type": "markdown",
   "metadata": {},
   "source": [
    "The seasons have been assigned based on the month values for Issue date. For months 1-3, season is WINTER, for months 4-6 season is SPRING, for months 7-9 season is SUMMER and for months 10-12 season is AUTUMN."
   ]
  },
  {
   "cell_type": "code",
   "execution_count": 55,
   "metadata": {},
   "outputs": [],
   "source": [
    "## refresh dataframe to temp table so as to take up new column created in dataframe\n",
    "\n",
    "nyc2017.createOrReplaceTempView(\"NYC2017\")"
   ]
  },
  {
   "cell_type": "code",
   "execution_count": 56,
   "metadata": {},
   "outputs": [
    {
     "name": "stdout",
     "output_type": "stream",
     "text": [
      "+------+------------------+\n",
      "|season|frequency_per_year|\n",
      "+------+------------------+\n",
      "|SPRING|           2760785|\n",
      "|WINTER|           2669033|\n",
      "|SUMMER|              1046|\n",
      "|AUTUMN|               970|\n",
      "+------+------------------+\n",
      "\n"
     ]
    }
   ],
   "source": [
    "## frequencies across seasons\n",
    "\n",
    "nyc2017_season_ticket_count = spark.sql(\"SELECT \\\n",
    "                                                 season, \\\n",
    "                                                 count(1) as frequency_per_year \\\n",
    "                                            FROM \\\n",
    "                                                 NYC2017 \\\n",
    "                                            GROUP BY \\\n",
    "                                                 season\\\n",
    "                                             ORDER BY \\\n",
    "                                                 frequency_per_year DESC\")\n",
    "\n",
    "nyc2017_season_ticket_count.show()"
   ]
  },
  {
   "cell_type": "markdown",
   "metadata": {},
   "source": [
    "The frequencies for the tickets across each season are mentioned above."
   ]
  },
  {
   "cell_type": "code",
   "execution_count": 57,
   "metadata": {},
   "outputs": [
    {
     "data": {
      "text/plain": [
       "<Figure size 432x288 with 0 Axes>"
      ]
     },
     "metadata": {},
     "output_type": "display_data"
    },
    {
     "data": {
      "image/png": "[encoded data removed]",
      "text/plain": [
       "<Figure size 1080x576 with 1 Axes>"
      ]
     },
     "metadata": {},
     "output_type": "display_data"
    }
   ],
   "source": [
    "## To plot data first we need to create a data frame \n",
    "pdDF = nyc2017_season_ticket_count.toPandas()\n",
    "## plot to show distribution of ticket counts across different states\n",
    "plt.clf()\n",
    "pdDF.plot(x='season',y='frequency_per_year',kind='bar',figsize=(15, 8),legend=None)\n",
    "plt.xlabel('season')\n",
    "plt.ylabel('frequency')\n",
    "plt.yscale('log')\n",
    "plt.title('season frequency')\n",
    "plt.show()"
   ]
  },
  {
   "cell_type": "code",
   "execution_count": 58,
   "metadata": {},
   "outputs": [
    {
     "name": "stdout",
     "output_type": "stream",
     "text": [
      "+------+--------------+------------------+---------+\n",
      "|season|Violation Code|frequency_per_year|rank_top3|\n",
      "+------+--------------+------------------+---------+\n",
      "|WINTER|            21|            373862|        1|\n",
      "|WINTER|            36|            348240|        2|\n",
      "|WINTER|            38|            286999|        3|\n",
      "|SPRING|            21|            393866|        1|\n",
      "|SPRING|            36|            314525|        2|\n",
      "|SPRING|            38|            255064|        3|\n",
      "|SUMMER|            21|               228|        1|\n",
      "|SUMMER|            46|               219|        2|\n",
      "|SUMMER|            40|               109|        3|\n",
      "|AUTUMN|            46|               219|        1|\n",
      "|AUTUMN|            40|               121|        2|\n",
      "|AUTUMN|            21|               100|        3|\n",
      "+------+--------------+------------------+---------+\n",
      "\n"
     ]
    }
   ],
   "source": [
    "## evaulating top 3 violation code across all the seasons\n",
    "\n",
    "## first grouping the data based on season and Violation Code\n",
    "\n",
    "nyc2017_season_violation_code_group = spark.sql(\"SELECT \\\n",
    "                                                     season, \\\n",
    "                                                     `Violation Code`, \\\n",
    "                                                     count(*) as frequency_per_year \\\n",
    "                                            FROM \\\n",
    "                                                     NYC2017 \\\n",
    "                                            GROUP BY \\\n",
    "                                                     season,`Violation Code`\")\n",
    "\n",
    "## creating a sql temp view\n",
    "\n",
    "nyc2017_season_violation_code_group.createOrReplaceTempView(\"NYC2017_SEASON_VIOLATION_CODE_GROUP\")\n",
    "\n",
    "                                                \n",
    "## finally evauluating top3 violation code for each bucket\n",
    "\n",
    "nyc2017_season_violation_code_top3 = spark.sql(\"SELECT \\\n",
    "                                                        season,\\\n",
    "                                                        `Violation Code`, \\\n",
    "                                                        frequency_per_year,\\\n",
    "                                                        rank_top3\\\n",
    "                                                FROM ( \\\n",
    "                                                        SELECT \\\n",
    "                                                                season,\\\n",
    "                                                                `Violation Code`, \\\n",
    "                                                                frequency_per_year, \\\n",
    "                                                                dense_rank() OVER(PARTITION BY season \\\n",
    "                                                                        ORDER BY frequency_per_year DESC) AS rank_top3  \\\n",
    "                                                        FROM \\\n",
    "                                                                NYC2017_SEASON_VIOLATION_CODE_GROUP \\\n",
    "                                                    )  \\\n",
    "                                                WHERE rank_top3 <= 3\")\n",
    "                                    \n",
    "nyc2017_season_violation_code_top3.show()"
   ]
  },
  {
   "cell_type": "markdown",
   "metadata": {},
   "source": [
    "Top 3 validation codes across each season are mentioned above."
   ]
  },
  {
   "cell_type": "code",
   "execution_count": 59,
   "metadata": {},
   "outputs": [
    {
     "data": {
      "image/png": "[encoded data removed]",
      "text/plain": [
       "<Figure size 864x576 with 1 Axes>"
      ]
     },
     "metadata": {},
     "output_type": "display_data"
    }
   ],
   "source": [
    "pdDF = nyc2017_season_violation_code_top3.toPandas()\n",
    "import seaborn as sns\n",
    "plt.figure(figsize=(12, 8))\n",
    "ax = sns.barplot(x='Violation Code', y='frequency_per_year',hue='season', data=pdDF)\n",
    "ax.set_ylabel(\"Frequency\", fontsize=18);\n",
    "ax.set_title('Top 3 violation code for each season',fontsize=15)\n",
    "ax.set_xlabel(\"violation code\", fontsize=18);\n",
    "plt.legend(loc='center left', bbox_to_anchor=(1.0, 0.5))\n",
    "plt.yscale('log')\n",
    "plt.show()"
   ]
  },
  {
   "cell_type": "markdown",
   "metadata": {},
   "source": [
    "### The fines collected from all the instances of parking violation constitute a source of revenue for the NYC Police Department. Let’s take an example of estimating this for the three most commonly occurring codes:\n",
    "\n",
    "- Find the total occurrences of the three most common violation codes.\n",
    "\n",
    "- Then, visit the website:\n",
    "\n",
    "http://www1.nyc.gov/site/finance/vehicles/services-violation-codes.page\n",
    "\n",
    "- It lists the fines associated with different violation codes. They’re divided into two categories: one for the highest-density locations in the city and the other for the rest of the city. For the sake of simplicity, take the average of the two.\n",
    "\n",
    "- Using this information, find the total amount collected for the three violation codes with the maximum tickets. State the code that has the highest total collection.\n",
    "\n",
    "- What can you intuitively infer from these findings?"
   ]
  },
  {
   "cell_type": "code",
   "execution_count": 60,
   "metadata": {},
   "outputs": [
    {
     "name": "stdout",
     "output_type": "stream",
     "text": [
      "+--------------+------+\n",
      "|Violation Code| count|\n",
      "+--------------+------+\n",
      "|            38|542078|\n",
      "|            21|768056|\n",
      "|            36|662765|\n",
      "+--------------+------+\n",
      "\n"
     ]
    }
   ],
   "source": [
    "## Total occurances of top 3 violation codes\n",
    "\n",
    "## top 3 violation codes are 21, 36, 38\n",
    "\n",
    "nyc2017_top3_violation_count = nyc2017.filter(col(\"Violation Code\").isin(21,36,38)).groupBy(col(\"Violation Code\")).count()\n",
    "nyc2017_top3_violation_count.show()"
   ]
  },
  {
   "cell_type": "markdown",
   "metadata": {},
   "source": [
    "##### For the top 3 violation codes avrage fine are as below :\n",
    "\n",
    "- Average fine for Violation code 21 : (65+45)/2  = 55 `$`\n",
    "- Average fine for Violation code 36 : (50+50)/2  = 50 `$`\n",
    "- Average fine for Violation code 38 : (65+35)/2  = 50 `$`"
   ]
  },
  {
   "cell_type": "code",
   "execution_count": 61,
   "metadata": {},
   "outputs": [
    {
     "name": "stdout",
     "output_type": "stream",
     "text": [
      "+--------------+------+--------------------------+\n",
      "|Violation Code| count|Average fine per violation|\n",
      "+--------------+------+--------------------------+\n",
      "|            38|542078|                        50|\n",
      "|            21|768056|                        55|\n",
      "|            36|662765|                        50|\n",
      "+--------------+------+--------------------------+\n",
      "\n"
     ]
    }
   ],
   "source": [
    "## now first we need to enter above information into a new column in dataframe\n",
    "\n",
    "## average fine amount for violation code 36 and 38 is 50 and average amount for violation code 21 is 55\n",
    "\n",
    "nyc2017_top3_violation_amount = nyc2017_top3_violation_count.withColumn(\"Average fine per violation\",\\\n",
    "                                                                        when(col(\"Violation Code\")==21,55)\n",
    "                                                                        .otherwise(50))\n",
    "nyc2017_top3_violation_amount.show()"
   ]
  },
  {
   "cell_type": "code",
   "execution_count": 63,
   "metadata": {},
   "outputs": [
    {
     "name": "stdout",
     "output_type": "stream",
     "text": [
      "+-----------------------------------------+\n",
      "|sum((count * Average fine per violation))|\n",
      "+-----------------------------------------+\n",
      "|                                102485230|\n",
      "+-----------------------------------------+\n",
      "\n"
     ]
    }
   ],
   "source": [
    "## now evaluating the total amount collected\n",
    "\n",
    "from pyspark.sql.functions import sum\n",
    "\n",
    "## to get the amount collected for each violation code we need to multiply the average amount collected with the \n",
    "## total conunt for each violation code and then we need to to sum up all the product values obtained\n",
    "\n",
    "nyc2017_total_revenue_top3_violation_code = nyc2017_top3_violation_amount.select(sum(col(\"count\")*\\\n",
    "                                                                                      col(\"Average fine per violation\")))\n",
    "nyc2017_total_revenue_top3_violation_code.show()"
   ]
  },
  {
   "cell_type": "markdown",
   "metadata": {},
   "source": [
    "The total revenue from top three violation is $102485230."
   ]
  },
  {
   "cell_type": "markdown",
   "metadata": {},
   "source": [
    "We can infer that fine collection for the violations are good source of revenue generation with big amount of $102485230 getting generated from top 3 violations."
   ]
  },
  {
   "cell_type": "markdown",
   "metadata": {},
   "source": [
    "# Finish"
   ]
  }
 ],
 "metadata": {
  "kernelspec": {
   "display_name": "PySpark",
   "language": "python",
   "name": "pyspark"
  },
  "language_info": {
   "codemirror_mode": {
    "name": "ipython",
    "version": 3
   },
   "file_extension": ".py",
   "mimetype": "text/x-python",
   "name": "python",
   "nbconvert_exporter": "python",
   "pygments_lexer": "ipython3",
   "version": "3.6.5"
  }
 },
 "nbformat": 4,
 "nbformat_minor": 2
}
